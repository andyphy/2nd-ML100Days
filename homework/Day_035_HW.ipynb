{
 "cells": [
  {
   "cell_type": "markdown",
   "metadata": {},
   "source": [
    "## 練習時間\n",
    "相信大家對回歸問題及分類問題都有初步的了解。今天的作業希望大家搜尋有關 multi-label 的案例問題。下圖是電影 \"奇異博士\" 的分類。可以看到同時有 \"Action\", \"Adventure\", \"Fantasy\" 的類別存在，代表這是個多標籤的問題。 "
   ]
  },
  {
   "cell_type": "markdown",
   "metadata": {},
   "source": [
    "![image](https://cdn-images-1.medium.com/max/1000/1*r0gYXMSQf5VhdMyl2bRDyg.png)"
   ]
  },
  {
   "cell_type": "markdown",
   "metadata": {},
   "source": [
    "## 請搜尋目標為多標籤問題 (Multi-label) 的機器學習案例，了解其資料來源、目標以及評估指標為何\n",
    "## Hint: 服飾\n",
    "\n",
    "### 文章連結：[Multi-label text classification with sklearn](https://www.kaggle.com/roccoli/multi-label-classification-with-sklearn)\n",
    "- 資料來源:Full text of questions and answers from [Cross Validated](https://stats.stackexchange.com/), the statistics and machine learning Q&A site from the Stack Exchange network.\n",
    "- About Dataset:This is organized as three tables:\n",
    "    - Questions contains the title, body, creation date, score, and owner ID for each question.\n",
    "    - Answers contains the body, creation date, score, and owner ID for each of the answers to these questions. The ParentId column links back to the Questions table.\n",
    "    - Tags contains the tags on each question\n",
    "- 目標：使用機器學習與自然語言處理的技巧，對一篇文章座自動分類的對應的 tag\n",
    "- 評估指標：使用 Hamming Score(a.k.a. label-based accuracy)來評估模型訓練的成果。\n",
    "    - [Getting the accuracy for multi-label prediction in scikit-learn\n",
    "](https://stackoverflow.com/questions/32239577/getting-the-accuracy-for-multi-label-prediction-in-scikit-learn)\n",
    "    - [sklearn中的模型评估](http://d0evi1.com/sklearn/model_evaluation/)"
   ]
  },
  {
   "attachments": {},
   "cell_type": "markdown",
   "metadata": {},
   "source": [
    "## 解答\n",
    "### 文章連結:[Multi-Label Classification(Blog Tags Prediction)using NLP](https://medium.com/coinmonks/multi-label-classification-blog-tags-prediction-using-nlp-b0b5ee6686fc)\n",
    "- 目標: 使用機器學習與自然語言處理的技巧，對一篇文章座自動分類的對應的 tag\n",
    "- 評估指標: 使用 accuracy_score 來評估模型訓練的成果\n",
    "- 資料來源: 使用爬蟲的方式，爬取 medium 的文章以及其對應的 tags 來當成 label  \n",
    "爬下來的目標會長的如下\n",
    "![image.png](https://cdn-images-1.medium.com/max/800/1*PTrY1rOQm7km9RwQnYGRjQ.png)\n"
   ]
  },
  {
   "cell_type": "code",
   "execution_count": null,
   "metadata": {},
   "outputs": [],
   "source": []
  }
 ],
 "metadata": {
  "kernelspec": {
   "display_name": "Python 3",
   "language": "python",
   "name": "python3"
  },
  "language_info": {
   "codemirror_mode": {
    "name": "ipython",
    "version": 3
   },
   "file_extension": ".py",
   "mimetype": "text/x-python",
   "name": "python",
   "nbconvert_exporter": "python",
   "pygments_lexer": "ipython3",
   "version": "3.7.1"
  }
 },
 "nbformat": 4,
 "nbformat_minor": 2
}
